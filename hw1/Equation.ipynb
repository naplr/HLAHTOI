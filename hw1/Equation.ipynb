{
 "cells": [
  {
   "cell_type": "code",
   "execution_count": 3,
   "metadata": {
    "ExecuteTime": {
     "end_time": "2020-02-14T21:15:27.815480Z",
     "start_time": "2020-02-14T21:15:26.252287Z"
    },
    "collapsed": true
   },
   "outputs": [],
   "source": [
    "import numpy as np\n",
    "import pandas as pd\n",
    "\n",
    "import seaborn as sns\n",
    "import matplotlib.pyplot as plt\n",
    "from matplotlib_venn import venn2, venn3\n",
    "import locale\n",
    "from datetime import datetime\n",
    "import statistics as stat\n",
    "\n",
    "%matplotlib inline"
   ]
  },
  {
   "cell_type": "code",
   "execution_count": 4,
   "metadata": {
    "ExecuteTime": {
     "end_time": "2020-02-14T21:15:28.240176Z",
     "start_time": "2020-02-14T21:15:27.816884Z"
    }
   },
   "outputs": [
    {
     "name": "stdout",
     "output_type": "stream",
     "text": [
      "665161\n"
     ]
    }
   ],
   "source": [
    "dat = pd.read_csv('data/assistments17/preprocessed_data.csv', sep='\\t')\n",
    "print(len(dat['timestamp'].unique()))\n",
    "dat.iloc[0]\n",
    "target_dat = dat[(dat['user_id'] == 0) & (dat['skill_id'] == 206)]"
   ]
  },
  {
   "cell_type": "code",
   "execution_count": 5,
   "metadata": {
    "ExecuteTime": {
     "end_time": "2020-02-14T21:15:28.256315Z",
     "start_time": "2020-02-14T21:15:28.241944Z"
    },
    "scrolled": true
   },
   "outputs": [
    {
     "name": "stdout",
     "output_type": "stream",
     "text": [
      "411\n",
      "1708\n"
     ]
    }
   ],
   "source": [
    "print(len(dat['skill_id'].unique()))\n",
    "print(len(dat['user_id'].unique()))"
   ]
  },
  {
   "cell_type": "code",
   "execution_count": 125,
   "metadata": {
    "ExecuteTime": {
     "end_time": "2020-02-17T05:49:31.345536Z",
     "start_time": "2020-02-17T05:49:31.287304Z"
    }
   },
   "outputs": [],
   "source": [
    "def calc_m(B_s, B_i, B_si, ts, ds, cur_t, types):\n",
    "    ages = [cur_t - t + 1 for t in ts]\n",
    "    tds = [a ** -ds[idx] for idx, a in enumerate(ages)]\n",
    "#         tds = [a ** -.5 for idx, a in enumerate(ages)]\n",
    "#     print(ages)\n",
    "#     print(tds)\n",
    "    if types:\n",
    "        tds = np.multiply([1 if t else 0.5 for t in types], tds)\n",
    "        \n",
    "    m = B_s + B_i + B_si + np.log(np.sum(tds))\n",
    "    return m\n",
    "    \n",
    "\n",
    "def calc_ms(B_s, B_i, B_si, c, alpha, ts, types=None):\n",
    "    ms = []\n",
    "    ds = []\n",
    "    for k in range(len(ts)):\n",
    "#         if k > 0:  print(\"{}, {}\".format(np.exp(ms[k-1]), c * np.exp(ms[k-1])))\n",
    "        dk = alpha if k == 0 else c * np.exp(ms[k-1]) + alpha\n",
    "        ds.append(dk)\n",
    "        m = calc_m(B_s, B_i, B_si, ts[:k+1], ds, ts[k], types[:k+1] if types else None)\n",
    "        ms.append(m)\n",
    "    return ms, ds\n",
    "\n",
    "def calc_precall(T, s, m):\n",
    "    return 1 / (1 + np.exp((T-m)/s))\n",
    "\n",
    "def test(B_s, B_i, B_si, c, alpha, ts, ds, cur_t, types=None):\n",
    "    m = calc_m(B_s, B_i, B_si, ts, ds, cur_t, types)\n",
    "    return m"
   ]
  },
  {
   "cell_type": "code",
   "execution_count": 126,
   "metadata": {
    "ExecuteTime": {
     "end_time": "2020-02-17T05:49:31.710998Z",
     "start_time": "2020-02-17T05:49:31.706218Z"
    },
    "collapsed": true
   },
   "outputs": [],
   "source": [
    "# Constants\n",
    "B_s = 0\n",
    "B_i = 0\n",
    "B_si = 0\n",
    "c = 0.15 # Decay scale parameter\n",
    "alpha = 0.1 # Minimum rate of decay\n",
    "T = 0 # Recall threshold\n",
    "s = 0.26 # Noise in activation"
   ]
  },
  {
   "cell_type": "code",
   "execution_count": 127,
   "metadata": {
    "ExecuteTime": {
     "end_time": "2020-02-17T05:49:31.954587Z",
     "start_time": "2020-02-17T05:49:31.885784Z"
    }
   },
   "outputs": [
    {
     "name": "stdout",
     "output_type": "stream",
     "text": [
      "==== massed ====\n",
      "m=0.00000, d=0.10000, precall=0.50000\n",
      "m=0.50858, d=0.25000, precall=0.87611\n",
      "m=0.68151, d=0.34944, precall=0.93221\n",
      "m=0.75794, d=0.39653, precall=0.94859\n",
      "m=0.80358, d=0.42008, precall=0.95651\n",
      "m=0.83667, d=0.43503, precall=0.96150\n",
      "m=0.86290, d=0.44630, precall=0.96507\n",
      "m=0.88461, d=0.45550, precall=0.96778\n",
      "m=0.90307, d=0.46331, precall=0.96992\n",
      "test: m=-1.402170853661944, p_recall=0.004527873042981066\n",
      "==== spaced ====\n",
      "m=0.00000, d=0.10000, precall=0.50000\n",
      "m=0.29559, d=0.25000, precall=0.75710\n",
      "m=0.32948, d=0.30159, precall=0.78027\n",
      "m=0.34107, d=0.30854, precall=0.78782\n",
      "m=0.35184, d=0.31097, precall=0.79466\n",
      "m=0.36236, d=0.31325, precall=0.80118\n",
      "m=0.37236, d=0.31551, precall=0.80724\n",
      "m=0.38175, d=0.31767, precall=0.81280\n",
      "m=0.39056, d=0.31973, precall=0.81790\n",
      "test: m=-1.244838847954643, p_recall=0.008261594809946376\n"
     ]
    }
   ],
   "source": [
    "def pp(ms, ds, ts):\n",
    "    for m, d, t in zip(ms, ds, ts):\n",
    "        print('m={:.5f}, d={:.5f}, precall={:.5f}'.format(m, d, calc_precall(T, s, m)))\n",
    "#         print('{},{:.5f},{:.5f},{:.5f}'.format(t,m, d, calc_precall(T, s, m)))\n",
    "\n",
    "def dtos(days):\n",
    "    if isinstance(days, list): \n",
    "        return [d*86400 for d in days]\n",
    "    return days * 86400\n",
    "\n",
    "def mtos(minutes):\n",
    "    if isinstance(minutes, list): \n",
    "        return [m*60 for m in minutes]\n",
    "    return minutes * 60\n",
    "\n",
    "def tos(day, hour, minute):\n",
    "    return day*86400 + hour*3600 + minute*60\n",
    "#     return day*1440 + hour*60 + minute\n",
    "\n",
    "ts = [\n",
    "    tos(0, 0, 0),\n",
    "    tos(0, 0, 1),\n",
    "    tos(0, 0, 2),\n",
    "    tos(0, 0, 3),\n",
    "    tos(0, 0, 4),\n",
    "    tos(0, 0, 5),\n",
    "    tos(0, 0, 6),\n",
    "    tos(0, 0, 7),\n",
    "    tos(0, 0, 8),\n",
    "]\n",
    "ms, ds = calc_ms(B_s, B_i, B_si, c, alpha, ts)\n",
    "tm = test(B_s, B_i, B_si, c, alpha, ts, ds, tos(60, 0, 45))\n",
    "print('==== massed ====')\n",
    "pp(ms, ds, ts)\n",
    "print('test: m={}, p_recall={}'.format(tm, calc_precall(T, s, tm)))\n",
    "\n",
    "ts = [\n",
    "    tos(0, 0, 0),\n",
    "    tos(0, 12, 0),\n",
    "    tos(1, 0, 0),\n",
    "    tos(1, 12, 0),\n",
    "    tos(2, 0, 0),\n",
    "    tos(2, 12, 0),\n",
    "    tos(3, 0, 0),\n",
    "    tos(3, 12, 0),\n",
    "    tos(4, 0, 0),\n",
    "]\n",
    "\n",
    "ms, ds = calc_ms(B_s, B_i, B_si, c, alpha, ts)\n",
    "tm = test(B_s, B_i, B_si, c, alpha, ts, ds, tos(64, 0, 0))\n",
    "print('==== spaced ====')\n",
    "pp(ms, ds, ts)\n",
    "print('test: m={}, p_recall={}'.format(tm, calc_precall(T, s, tm)))"
   ]
  },
  {
   "cell_type": "code",
   "execution_count": 128,
   "metadata": {
    "ExecuteTime": {
     "end_time": "2020-02-17T05:49:32.102022Z",
     "start_time": "2020-02-17T05:49:32.066321Z"
    }
   },
   "outputs": [
    {
     "name": "stdout",
     "output_type": "stream",
     "text": [
      "==== mixed ====\n",
      "m=-0.69315, d=0.10000, precall=0.06501\n",
      "m=0.28628, d=0.17500, precall=0.75046\n",
      "m=0.25972, d=0.29972, precall=0.73085\n",
      "m=0.62870, d=0.29448, precall=0.91820\n",
      "m=0.47520, d=0.38128, precall=0.86149\n",
      "m=0.75079, d=0.34125, precall=0.94723\n",
      "m=0.57942, d=0.41780, precall=0.90278\n",
      "m=0.82092, d=0.36775, precall=0.95920\n",
      "m=0.64614, d=0.44089, precall=0.92309\n",
      "m=0.86908, d=0.38622, precall=0.96586\n",
      "test: m=-0.89325, p_recall=0.0312020709\n",
      "==== study ====\n",
      "m=-0.69315, d=0.10000, precall=0.06501\n",
      "m=-0.18457, d=0.17500, precall=0.32963\n",
      "m=0.05168, d=0.22472, precall=0.54953\n",
      "m=0.19213, d=0.25796, precall=0.67677\n",
      "m=0.28786, d=0.28177, precall=0.75160\n",
      "m=0.35880, d=0.30004, precall=0.79899\n",
      "m=0.41430, d=0.31474, precall=0.83110\n",
      "m=0.45936, d=0.32700, precall=0.85405\n",
      "m=0.49696, d=0.33746, precall=0.87117\n",
      "m=0.52899, d=0.34656, precall=0.88438\n",
      "test: m=-0.97288, p_recall=0.0231611391\n"
     ]
    }
   ],
   "source": [
    "ts = [\n",
    "    tos(0, 0, 0),\n",
    "    tos(0, 0, 1),\n",
    "    tos(0, 0, 2),\n",
    "    tos(0, 0, 3),\n",
    "    tos(0, 0, 4),\n",
    "    tos(0, 0, 5),\n",
    "    tos(0, 0, 6),\n",
    "    tos(0, 0, 7),\n",
    "    tos(0, 0, 8),\n",
    "    tos(0, 0, 9),\n",
    "]\n",
    "\n",
    "types = [\n",
    "    False, # True = test\n",
    "    True,\n",
    "    False,\n",
    "    True,\n",
    "    False,\n",
    "    True,\n",
    "    False,\n",
    "    True,\n",
    "    False,\n",
    "    True,\n",
    "]\n",
    "\n",
    "ms, ds = calc_ms(B_s, B_i, B_si, c, alpha, ts, types)\n",
    "tm = test(B_s, B_i, B_si, c, alpha, ts, ds, tos(1, 0, 45), types)\n",
    "print('==== mixed ====')\n",
    "pp(ms, ds, ts)\n",
    "print('test: m={:.5f}, p_recall={:.10f}'.format(tm, calc_precall(T, s, tm)))\n",
    "\n",
    "types = [\n",
    "    False,\n",
    "    False,\n",
    "    False,\n",
    "    False,\n",
    "    False,\n",
    "    False,\n",
    "    False,\n",
    "    False,\n",
    "    False,\n",
    "    False,\n",
    "]\n",
    "ms, ds = calc_ms(B_s, B_i, B_si, c, alpha, ts, types)\n",
    "tm = test(B_s, B_i, B_si, c, alpha, ts, ds, tos(1, 0, 0), types)\n",
    "print('==== study ====')\n",
    "pp(ms, ds, ts)\n",
    "print('test: m={:.5f}, p_recall={:.10f}'.format(tm, calc_precall(T, s, tm)))"
   ]
  },
  {
   "cell_type": "code",
   "execution_count": 129,
   "metadata": {
    "ExecuteTime": {
     "end_time": "2020-02-17T05:49:32.289110Z",
     "start_time": "2020-02-17T05:49:32.230192Z"
    },
    "collapsed": true
   },
   "outputs": [],
   "source": [
    "def day(x):\n",
    "    return x * 86400.0\n",
    "def hour(x):\n",
    "    return x * 3600\n",
    "def mins(x):\n",
    "    return x * 60\n",
    "\n",
    "massed_short_h = [\n",
    "    day(12)+hour(7)+mins(50),\n",
    "    day(12)+hour(7)+mins(51),\n",
    "    day(12)+hour(7)+mins(52),\n",
    "    day(12)+hour(7)+mins(53),\n",
    "    day(12)+hour(7)+mins(54),\n",
    "    day(12)+hour(7)+mins(55),\n",
    "    day(12)+hour(7)+mins(56),\n",
    "    day(12)+hour(7)+mins(57),\n",
    "    day(12)+hour(7)+mins(58),\n",
    "    day(12)+hour(7)+mins(59),\n",
    "    day(12)+hour(8)+mins(0),\n",
    "]\n",
    "\n",
    "massed_long_h = [\n",
    "    day(11)+hour(7)+mins(50),\n",
    "    day(11)+hour(7)+mins(51),\n",
    "    day(11)+hour(7)+mins(52),\n",
    "    day(11)+hour(7)+mins(53),\n",
    "    day(11)+hour(7)+mins(54),\n",
    "    day(11)+hour(7)+mins(55),\n",
    "    day(11)+hour(7)+mins(56),\n",
    "    day(11)+hour(7)+mins(57),\n",
    "    day(11)+hour(7)+mins(58),\n",
    "    day(11)+hour(7)+mins(59),\n",
    "    day(11)+hour(8)+mins(0),\n",
    "]\n",
    "\n",
    "spaced_short_h = [\n",
    "    day(2)+hour(8)+mins(0),\n",
    "    day(3)+hour(8)+mins(0),\n",
    "    day(4)+hour(8)+mins(0),\n",
    "    day(5)+hour(8)+mins(0),\n",
    "    day(6)+hour(8)+mins(0),\n",
    "    day(7)+hour(8)+mins(0),\n",
    "    day(8)+hour(8)+mins(0),\n",
    "    day(9)+hour(8)+mins(0),\n",
    "    day(10)+hour(8)+mins(0),\n",
    "    day(11)+hour(8)+mins(0),\n",
    "    day(12)+hour(8)+mins(0),\n",
    "]\n",
    "\n",
    "spaced_long_h = [\n",
    "    day(1)+hour(8)+mins(0),\n",
    "    day(2)+hour(8)+mins(0),\n",
    "    day(3)+hour(8)+mins(0),\n",
    "    day(4)+hour(8)+mins(0),\n",
    "    day(5)+hour(8)+mins(0),\n",
    "    day(6)+hour(8)+mins(0),\n",
    "    day(7)+hour(8)+mins(0),\n",
    "    day(8)+hour(8)+mins(0),\n",
    "    day(9)+hour(8)+mins(0),\n",
    "    day(10)+hour(8)+mins(0),\n",
    "    day(11)+hour(8)+mins(0),\n",
    "]\n",
    "\n",
    "now = day(12)+hour(8)+mins(10)"
   ]
  },
  {
   "cell_type": "code",
   "execution_count": 130,
   "metadata": {
    "ExecuteTime": {
     "end_time": "2020-02-17T05:49:32.729497Z",
     "start_time": "2020-02-17T05:49:32.689076Z"
    }
   },
   "outputs": [
    {
     "name": "stdout",
     "output_type": "stream",
     "text": [
      "==== massed_short_h ====\n",
      "m=0.00000, d=0.10000, precall=0.50000\n",
      "m=0.50858, d=0.25000, precall=0.87611\n",
      "m=0.68151, d=0.34944, precall=0.93221\n",
      "m=0.75794, d=0.39653, precall=0.94859\n",
      "m=0.80358, d=0.42008, precall=0.95651\n",
      "m=0.83667, d=0.43503, precall=0.96150\n",
      "m=0.86290, d=0.44630, precall=0.96507\n",
      "m=0.88461, d=0.45550, precall=0.96778\n",
      "m=0.90307, d=0.46331, precall=0.96992\n",
      "m=0.91907, d=0.47008, precall=0.97166\n",
      "m=0.93313, d=0.47604, precall=0.97312\n",
      "m=0.77142, d=0.48137, precall=0.95106\n",
      "==== massed_long_h ====\n",
      "m=0.00000, d=0.10000, precall=0.50000\n",
      "m=0.50858, d=0.25000, precall=0.87611\n",
      "m=0.68151, d=0.34944, precall=0.93221\n",
      "m=0.75794, d=0.39653, precall=0.94859\n",
      "m=0.80358, d=0.42008, precall=0.95651\n",
      "m=0.83667, d=0.43503, precall=0.96150\n",
      "m=0.86290, d=0.44630, precall=0.96507\n",
      "m=0.88461, d=0.45550, precall=0.96778\n",
      "m=0.90307, d=0.46331, precall=0.96992\n",
      "m=0.91907, d=0.47008, precall=0.97166\n",
      "m=0.93313, d=0.47604, precall=0.97312\n",
      "m=0.37157, d=0.48137, precall=0.80676\n",
      "==== spaced_short_h ====\n",
      "m=0.00000, d=0.10000, precall=0.50000\n",
      "m=0.27830, d=0.25000, precall=0.74467\n",
      "m=0.30581, d=0.29813, precall=0.76426\n",
      "m=0.31503, d=0.30366, precall=0.77059\n",
      "m=0.32412, d=0.30554, precall=0.77671\n",
      "m=0.33322, d=0.30742, precall=0.78272\n",
      "m=0.34199, d=0.30932, precall=0.78841\n",
      "m=0.35033, d=0.31116, precall=0.79371\n",
      "m=0.35822, d=0.31293, precall=0.79863\n",
      "m=0.36568, d=0.31462, precall=0.80321\n",
      "m=0.37274, d=0.31622, precall=0.80746\n",
      "m=0.45980, d=0.31776, precall=0.85427\n",
      "==== spaced_long_h ====\n",
      "m=0.00000, d=0.10000, precall=0.50000\n",
      "m=0.27830, d=0.25000, precall=0.74467\n",
      "m=0.30581, d=0.29813, precall=0.76426\n",
      "m=0.31503, d=0.30366, precall=0.77059\n",
      "m=0.32412, d=0.30554, precall=0.77671\n",
      "m=0.33322, d=0.30742, precall=0.78272\n",
      "m=0.34199, d=0.30932, precall=0.78841\n",
      "m=0.35033, d=0.31116, precall=0.79371\n",
      "m=0.35822, d=0.31293, precall=0.79863\n",
      "m=0.36568, d=0.31462, precall=0.80321\n",
      "m=0.37274, d=0.31622, precall=0.80746\n",
      "m=0.37932, d=0.31776, precall=0.81137\n"
     ]
    }
   ],
   "source": [
    "def run(B_s, B_i, B_si, c, alpha, ts, now):\n",
    "    times = ts\n",
    "    times.append(now)\n",
    "    ms, ds = calc_ms(B_s, B_i, B_si, c, alpha, times)\n",
    "    tm = test(B_s, B_i, B_si, c, alpha, ts, ds, now)\n",
    "    pp(ms, ds, ts)\n",
    "#     print('test: m={}, p_recall={}'.format(tm, calc_precall(T, s, tm)))\n",
    "    \n",
    "print('==== massed_short_h ====')\n",
    "run(B_s, B_i, B_si, c, alpha, massed_short_h, now)\n",
    "\n",
    "print('==== massed_long_h ====')\n",
    "run(B_s, B_i, B_si, c, alpha, massed_long_h, now)\n",
    "\n",
    "print('==== spaced_short_h ====')\n",
    "run(B_s, B_i, B_si, c, alpha, spaced_short_h, now)\n",
    "\n",
    "print('==== spaced_long_h ====')\n",
    "run(B_s, B_i, B_si, c, alpha, spaced_long_h, now)"
   ]
  },
  {
   "cell_type": "code",
   "execution_count": null,
   "metadata": {
    "collapsed": true
   },
   "outputs": [],
   "source": []
  },
  {
   "cell_type": "code",
   "execution_count": null,
   "metadata": {
    "collapsed": true
   },
   "outputs": [],
   "source": []
  }
 ],
 "metadata": {
  "kernelspec": {
   "display_name": "Python 3",
   "language": "python",
   "name": "python3"
  },
  "language_info": {
   "codemirror_mode": {
    "name": "ipython",
    "version": 3
   },
   "file_extension": ".py",
   "mimetype": "text/x-python",
   "name": "python",
   "nbconvert_exporter": "python",
   "pygments_lexer": "ipython3",
   "version": "3.6.1"
  }
 },
 "nbformat": 4,
 "nbformat_minor": 2
}
