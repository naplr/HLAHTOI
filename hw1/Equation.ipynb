{
 "cells": [
  {
   "cell_type": "code",
   "execution_count": 263,
   "metadata": {
    "ExecuteTime": {
     "end_time": "2020-02-08T02:40:39.303678Z",
     "start_time": "2020-02-08T02:40:39.294689Z"
    },
    "collapsed": true
   },
   "outputs": [],
   "source": [
    "import numpy as np\n",
    "import pandas as pd\n",
    "\n",
    "import seaborn as sns\n",
    "import matplotlib.pyplot as plt\n",
    "from matplotlib_venn import venn2, venn3\n",
    "import locale\n",
    "from datetime import datetime\n",
    "import statistics as stat\n",
    "\n",
    "%matplotlib inline"
   ]
  },
  {
   "cell_type": "code",
   "execution_count": 257,
   "metadata": {
    "ExecuteTime": {
     "end_time": "2020-02-08T02:40:10.718357Z",
     "start_time": "2020-02-08T02:40:09.337500Z"
    }
   },
   "outputs": [
    {
     "name": "stdout",
     "output_type": "stream",
     "text": [
      "2340432\n"
     ]
    }
   ],
   "source": [
    "dat = pd.read_csv('data/assistments09/preprocessed_data.csv', sep='\\t')\n",
    "dat = pd.read_csv('data/assistments12/preprocessed_data.csv', sep='\\t')\n",
    "print(len(dat['timestamp'].unique()))\n",
    "dat.iloc[0]\n",
    "target_dat = dat[(dat['user_id'] == 0) & (dat['skill_id'] == 206)]"
   ]
  },
  {
   "cell_type": "code",
   "execution_count": 258,
   "metadata": {
    "ExecuteTime": {
     "end_time": "2020-02-08T02:40:10.748798Z",
     "start_time": "2020-02-08T02:40:10.719693Z"
    },
    "scrolled": true
   },
   "outputs": [
    {
     "name": "stdout",
     "output_type": "stream",
     "text": [
      "265\n",
      "22589\n"
     ]
    }
   ],
   "source": [
    "print(len(dat['skill_id'].unique()))\n",
    "print(len(dat['user_id'].unique()))"
   ]
  },
  {
   "cell_type": "code",
   "execution_count": 276,
   "metadata": {
    "ExecuteTime": {
     "end_time": "2020-02-08T02:43:01.086436Z",
     "start_time": "2020-02-08T02:43:01.023725Z"
    },
    "collapsed": true
   },
   "outputs": [],
   "source": [
    "def calc_m(B_s, B_i, B_si, ts, ds, cur_t, types):\n",
    "    ages = [cur_t - t + 1 for t in ts]\n",
    "    tds = [a ** -ds[idx] for idx, a in enumerate(ages)]\n",
    "#         tds = [a ** -.5 for idx, a in enumerate(ages)]\n",
    "    if types:\n",
    "        tds = np.multiply([1 if t else 0.5 for t in types], tds)\n",
    "        \n",
    "    m = B_s + B_i + B_si + np.log(np.sum(tds))\n",
    "    return m\n",
    "    \n",
    "\n",
    "def calc_ms(B_s, B_i, B_si, c, alpha, ts, types=None):\n",
    "    ms = []\n",
    "    ds = []\n",
    "    for k in range(len(ts)):\n",
    "        dk = alpha if k == 0 else c * np.exp(ms[k-1]) + alpha\n",
    "        ds.append(dk)\n",
    "        \n",
    "#         ages = [ts[k] - t + 1 for t in ts[:k+1]]\n",
    "#         tds = [a ** -ds[idx] for idx, a in enumerate(ages)]\n",
    "#         m = B_s + B_i + B_si + np.log(sum(tds))\n",
    "        \n",
    "        m = calc_m(B_s, B_i, B_si, ts[:k+1], ds, ts[k], types[:k+1] if types else None)\n",
    "        ms.append(m)\n",
    "    return ms, ds\n",
    "\n",
    "def calc_precall(T, s, m):\n",
    "    return 1 / (1 + np.exp((T-m)/s))\n",
    "#     return 1 / (1 + np.exp(-m))\n",
    "\n",
    "def test(B_s, B_i, B_si, c, alpha, ts, ds, cur_t, types=None):\n",
    "#     ages = [cur_t - t + 1 for t in ts]\n",
    "#     tds = [a ** -ds[idx] for idx, a in enumerate(ages)]\n",
    "#     m = B_s + B_i + B_si + np.log(sum(tds))\n",
    "    m = calc_m(B_s, B_i, B_si, ts, ds, cur_t, types)\n",
    "    return m"
   ]
  },
  {
   "cell_type": "code",
   "execution_count": 277,
   "metadata": {
    "ExecuteTime": {
     "end_time": "2020-02-08T02:43:01.411665Z",
     "start_time": "2020-02-08T02:43:01.405989Z"
    },
    "collapsed": true
   },
   "outputs": [],
   "source": [
    "# Constants\n",
    "B_s = 0\n",
    "B_i = 0\n",
    "B_si = 0\n",
    "c = 0.42 # Decay scale parameter\n",
    "alpha = 0.2 # Minimum rate of decay\n",
    "T = 0 # Recall threshold\n",
    "s = 0.26 # Noise in activation"
   ]
  },
  {
   "cell_type": "code",
   "execution_count": 288,
   "metadata": {
    "ExecuteTime": {
     "end_time": "2020-02-08T03:27:34.535134Z",
     "start_time": "2020-02-08T03:27:34.439080Z"
    }
   },
   "outputs": [
    {
     "name": "stdout",
     "output_type": "stream",
     "text": [
      "==== massed ====\n",
      "0,0.00000,0.20000,0.50000\n",
      "1,0.62623,0.62000,0.91748\n",
      "2,0.89748,0.98563,0.96929\n",
      "3,1.01845,1.23043,0.98049\n",
      "4,1.06918,1.36294,0.98389\n",
      "5,1.08860,1.42345,0.98503\n",
      "6,1.09519,1.44744,0.98540\n",
      "7,1.09701,1.45569,0.98550\n",
      "8,1.09730,1.45799,0.98552\n",
      "test: m=-2.2649021437033894, p_recall=0.0001647095704148555\n",
      "==== spaced ====\n",
      "0,0.00000,0.20000,0.50000\n",
      "720,0.23758,0.62000,0.71377\n",
      "1440,0.22346,0.73263,0.70255\n",
      "2160,0.21057,0.72517,0.69208\n",
      "2880,0.20307,0.71844,0.68590\n",
      "3600,0.19815,0.71456,0.68181\n",
      "4320,0.19464,0.71204,0.67888\n",
      "5040,0.19202,0.71025,0.67667\n",
      "5760,0.18998,0.70891,0.67496\n",
      "test: m=-2.2588365869813782, p_recall=0.0001685966069126347\n"
     ]
    }
   ],
   "source": [
    "def pp(ms, ds, ts):\n",
    "    for m, d, t in zip(ms, ds, ts):\n",
    "#         print('m={:.5f}, d={:.5f}, precall={:.5f}'.format(m, d, calc_precall(T, s, m)))\n",
    "        print('{},{:.5f},{:.5f},{:.5f}'.format(t,m, d, calc_precall(T, s, m)))\n",
    "\n",
    "def dtos(days):\n",
    "    if isinstance(days, list): \n",
    "        return [d*86400 for d in days]\n",
    "    return days * 86400\n",
    "\n",
    "def mtos(minutes):\n",
    "    if isinstance(minutes, list): \n",
    "        return [m*60 for m in minutes]\n",
    "    return minutes * 60\n",
    "\n",
    "def tos(day, hour, minute):\n",
    "#     return day*86400 + hour*3600 + minute*60\n",
    "    return day*1440 + hour*60 + minute\n",
    "\n",
    "ts = [\n",
    "    tos(0, 0, 0),\n",
    "    tos(0, 0, 1),\n",
    "    tos(0, 0, 2),\n",
    "    tos(0, 0, 3),\n",
    "    tos(0, 0, 4),\n",
    "    tos(0, 0, 5),\n",
    "    tos(0, 0, 6),\n",
    "    tos(0, 0, 7),\n",
    "    tos(0, 0, 8),\n",
    "]\n",
    "ms, ds = calc_ms(B_s, B_i, B_si, c, alpha, ts)\n",
    "tm = test(B_s, B_i, B_si, c, alpha, ts, ds, tos(60, 0, 45))\n",
    "print('==== massed ====')\n",
    "pp(ms, ds, ts)\n",
    "print('test: m={}, p_recall={}'.format(tm, calc_precall(T, s, tm)))\n",
    "\n",
    "ts = [\n",
    "    tos(0, 0, 0),\n",
    "    tos(0, 12, 0),\n",
    "    tos(1, 0, 0),\n",
    "    tos(1, 12, 0),\n",
    "    tos(2, 0, 0),\n",
    "    tos(2, 12, 0),\n",
    "    tos(3, 0, 0),\n",
    "    tos(3, 12, 0),\n",
    "    tos(4, 0, 0),\n",
    "]\n",
    "\n",
    "ms, ds = calc_ms(B_s, B_i, B_si, c, alpha, ts)\n",
    "tm = test(B_s, B_i, B_si, c, alpha, ts, ds, tos(64, 0, 0))\n",
    "print('==== spaced ====')\n",
    "pp(ms, ds, ts)\n",
    "print('test: m={}, p_recall={}'.format(tm, calc_precall(T, s, tm)))"
   ]
  },
  {
   "cell_type": "code",
   "execution_count": 289,
   "metadata": {
    "ExecuteTime": {
     "end_time": "2020-02-08T03:36:05.078602Z",
     "start_time": "2020-02-08T03:36:05.038376Z"
    }
   },
   "outputs": [
    {
     "name": "stdout",
     "output_type": "stream",
     "text": [
      "==== mixed ====\n",
      "0,-0.69315,0.20000,0.06501\n",
      "1,0.36136,0.41000,0.80057\n",
      "2,0.50319,0.80282,0.87384\n",
      "3,0.83417,0.89468,0.96115\n",
      "4,0.77642,1.16722,0.95195\n",
      "5,0.96603,1.11295,0.97624\n",
      "6,0.85279,1.30355,0.96374\n",
      "7,1.00500,1.18540,0.97948\n",
      "8,0.87710,1.34740,0.96686\n",
      "9,1.01893,1.20964,0.98052\n",
      "test: m=-1.77338, p_recall=0.0010897723\n",
      "==== study ====\n",
      "0,-0.69315,0.20000,0.06501\n",
      "1,-0.06691,0.41000,0.43601\n",
      "2,0.24505,0.59282,0.71960\n",
      "3,0.42470,0.73663,0.83664\n",
      "4,0.53437,0.84223,0.88648\n",
      "5,0.60386,0.91668,0.91073\n",
      "6,0.64940,0.96825,0.92398\n",
      "7,0.68028,1.00404,0.93191\n",
      "8,0.70200,1.02926,0.93703\n",
      "9,0.71785,1.04747,0.94053\n",
      "test: m=-1.86944, p_recall=0.0007534106\n"
     ]
    }
   ],
   "source": [
    "ts = [\n",
    "    tos(0, 0, 0),\n",
    "    tos(0, 0, 1),\n",
    "    tos(0, 0, 2),\n",
    "    tos(0, 0, 3),\n",
    "    tos(0, 0, 4),\n",
    "    tos(0, 0, 5),\n",
    "    tos(0, 0, 6),\n",
    "    tos(0, 0, 7),\n",
    "    tos(0, 0, 8),\n",
    "    tos(0, 0, 9),\n",
    "]\n",
    "\n",
    "types = [\n",
    "    False, # True = test\n",
    "    True,\n",
    "    False,\n",
    "    True,\n",
    "    False,\n",
    "    True,\n",
    "    False,\n",
    "    True,\n",
    "    False,\n",
    "    True,\n",
    "]\n",
    "\n",
    "ms, ds = calc_ms(B_s, B_i, B_si, c, alpha, ts, types)\n",
    "tm = test(B_s, B_i, B_si, c, alpha, ts, ds, tos(1, 0, 45), types)\n",
    "print('==== mixed ====')\n",
    "pp(ms, ds, ts)\n",
    "print('test: m={:.5f}, p_recall={:.10f}'.format(tm, calc_precall(T, s, tm)))\n",
    "\n",
    "types = [\n",
    "    False,\n",
    "    False,\n",
    "    False,\n",
    "    False,\n",
    "    False,\n",
    "    False,\n",
    "    False,\n",
    "    False,\n",
    "    False,\n",
    "    False,\n",
    "]\n",
    "ms, ds = calc_ms(B_s, B_i, B_si, c, alpha, ts, types)\n",
    "tm = test(B_s, B_i, B_si, c, alpha, ts, ds, tos(1, 0, 0), types)\n",
    "print('==== study ====')\n",
    "pp(ms, ds, ts)\n",
    "print('test: m={:.5f}, p_recall={:.10f}'.format(tm, calc_precall(T, s, tm)))"
   ]
  },
  {
   "cell_type": "code",
   "execution_count": null,
   "metadata": {
    "collapsed": true
   },
   "outputs": [],
   "source": []
  }
 ],
 "metadata": {
  "kernelspec": {
   "display_name": "Python 3",
   "language": "python",
   "name": "python3"
  },
  "language_info": {
   "codemirror_mode": {
    "name": "ipython",
    "version": 3
   },
   "file_extension": ".py",
   "mimetype": "text/x-python",
   "name": "python",
   "nbconvert_exporter": "python",
   "pygments_lexer": "ipython3",
   "version": "3.6.1"
  }
 },
 "nbformat": 4,
 "nbformat_minor": 2
}
