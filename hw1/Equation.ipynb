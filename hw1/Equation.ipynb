{
 "cells": [
  {
   "cell_type": "code",
   "execution_count": 1,
   "metadata": {
    "ExecuteTime": {
     "end_time": "2020-02-11T22:18:54.729858Z",
     "start_time": "2020-02-11T22:18:53.569786Z"
    },
    "collapsed": true
   },
   "outputs": [],
   "source": [
    "import numpy as np\n",
    "import pandas as pd\n",
    "\n",
    "import seaborn as sns\n",
    "import matplotlib.pyplot as plt\n",
    "from matplotlib_venn import venn2, venn3\n",
    "import locale\n",
    "from datetime import datetime\n",
    "import statistics as stat\n",
    "\n",
    "%matplotlib inline"
   ]
  },
  {
   "cell_type": "code",
   "execution_count": 2,
   "metadata": {
    "ExecuteTime": {
     "end_time": "2020-02-11T22:18:55.199236Z",
     "start_time": "2020-02-11T22:18:54.731559Z"
    }
   },
   "outputs": [
    {
     "name": "stdout",
     "output_type": "stream",
     "text": [
      "665161\n"
     ]
    }
   ],
   "source": [
    "dat = pd.read_csv('data/assistments17/preprocessed_data.csv', sep='\\t')\n",
    "print(len(dat['timestamp'].unique()))\n",
    "dat.iloc[0]\n",
    "target_dat = dat[(dat['user_id'] == 0) & (dat['skill_id'] == 206)]"
   ]
  },
  {
   "cell_type": "code",
   "execution_count": 3,
   "metadata": {
    "ExecuteTime": {
     "end_time": "2020-02-11T22:18:55.235971Z",
     "start_time": "2020-02-11T22:18:55.201628Z"
    },
    "scrolled": true
   },
   "outputs": [
    {
     "name": "stdout",
     "output_type": "stream",
     "text": [
      "411\n",
      "1708\n"
     ]
    }
   ],
   "source": [
    "print(len(dat['skill_id'].unique()))\n",
    "print(len(dat['user_id'].unique()))"
   ]
  },
  {
   "cell_type": "code",
   "execution_count": 4,
   "metadata": {
    "ExecuteTime": {
     "end_time": "2020-02-11T22:18:55.303679Z",
     "start_time": "2020-02-11T22:18:55.247366Z"
    },
    "collapsed": true
   },
   "outputs": [],
   "source": [
    "def calc_m(B_s, B_i, B_si, ts, ds, cur_t, types):\n",
    "    ages = [cur_t - t + 1 for t in ts]\n",
    "    tds = [a ** -ds[idx] for idx, a in enumerate(ages)]\n",
    "#         tds = [a ** -.5 for idx, a in enumerate(ages)]\n",
    "    if types:\n",
    "        tds = np.multiply([1 if t else 0.5 for t in types], tds)\n",
    "        \n",
    "    m = B_s + B_i + B_si + np.log(np.sum(tds))\n",
    "    return m\n",
    "    \n",
    "\n",
    "def calc_ms(B_s, B_i, B_si, c, alpha, ts, types=None):\n",
    "    ms = []\n",
    "    ds = []\n",
    "    for k in range(len(ts)):\n",
    "        dk = alpha if k == 0 else c * np.exp(ms[k-1]) + alpha\n",
    "        ds.append(dk)\n",
    "        m = calc_m(B_s, B_i, B_si, ts[:k+1], ds, ts[k], types[:k+1] if types else None)\n",
    "        ms.append(m)\n",
    "    return ms, ds\n",
    "\n",
    "def calc_precall(T, s, m):\n",
    "    return 1 / (1 + np.exp((T-m)/s))\n",
    "\n",
    "def test(B_s, B_i, B_si, c, alpha, ts, ds, cur_t, types=None):\n",
    "    m = calc_m(B_s, B_i, B_si, ts, ds, cur_t, types)\n",
    "    return m"
   ]
  },
  {
   "cell_type": "code",
   "execution_count": 5,
   "metadata": {
    "ExecuteTime": {
     "end_time": "2020-02-11T22:18:55.320572Z",
     "start_time": "2020-02-11T22:18:55.309987Z"
    },
    "collapsed": true
   },
   "outputs": [],
   "source": [
    "# Constants\n",
    "B_s = 0\n",
    "B_i = 0\n",
    "B_si = 0\n",
    "c = 0.42 # Decay scale parameter\n",
    "alpha = 0.2 # Minimum rate of decay\n",
    "T = 0 # Recall threshold\n",
    "s = 0.26 # Noise in activation"
   ]
  },
  {
   "cell_type": "code",
   "execution_count": 6,
   "metadata": {
    "ExecuteTime": {
     "end_time": "2020-02-11T22:18:55.421647Z",
     "start_time": "2020-02-11T22:18:55.322657Z"
    }
   },
   "outputs": [
    {
     "name": "stdout",
     "output_type": "stream",
     "text": [
      "==== massed ====\n",
      "m=0.00000, d=0.20000, precall=0.50000\n",
      "m=0.62623, d=0.62000, precall=0.91748\n",
      "m=0.89748, d=0.98563, precall=0.96929\n",
      "m=1.01845, d=1.23043, precall=0.98049\n",
      "m=1.06918, d=1.36294, precall=0.98389\n",
      "m=1.08860, d=1.42345, precall=0.98503\n",
      "m=1.09519, d=1.44744, precall=0.98540\n",
      "m=1.09701, d=1.45569, precall=0.98550\n",
      "m=1.09730, d=1.45799, precall=0.98552\n",
      "test: m=-2.2649021437033894, p_recall=0.0001647095704148555\n",
      "==== spaced ====\n",
      "m=0.00000, d=0.20000, precall=0.50000\n",
      "m=0.23758, d=0.62000, precall=0.71377\n",
      "m=0.22346, d=0.73263, precall=0.70255\n",
      "m=0.21057, d=0.72517, precall=0.69208\n",
      "m=0.20307, d=0.71844, precall=0.68590\n",
      "m=0.19815, d=0.71456, precall=0.68181\n",
      "m=0.19464, d=0.71204, precall=0.67888\n",
      "m=0.19202, d=0.71025, precall=0.67667\n",
      "m=0.18998, d=0.70891, precall=0.67496\n",
      "test: m=-2.2588365869813782, p_recall=0.0001685966069126347\n"
     ]
    }
   ],
   "source": [
    "def pp(ms, ds, ts):\n",
    "    for m, d, t in zip(ms, ds, ts):\n",
    "        print('m={:.5f}, d={:.5f}, precall={:.5f}'.format(m, d, calc_precall(T, s, m)))\n",
    "#         print('{},{:.5f},{:.5f},{:.5f}'.format(t,m, d, calc_precall(T, s, m)))\n",
    "\n",
    "def dtos(days):\n",
    "    if isinstance(days, list): \n",
    "        return [d*86400 for d in days]\n",
    "    return days * 86400\n",
    "\n",
    "def mtos(minutes):\n",
    "    if isinstance(minutes, list): \n",
    "        return [m*60 for m in minutes]\n",
    "    return minutes * 60\n",
    "\n",
    "def tos(day, hour, minute):\n",
    "#     return day*86400 + hour*3600 + minute*60\n",
    "    return day*1440 + hour*60 + minute\n",
    "\n",
    "ts = [\n",
    "    tos(0, 0, 0),\n",
    "    tos(0, 0, 1),\n",
    "    tos(0, 0, 2),\n",
    "    tos(0, 0, 3),\n",
    "    tos(0, 0, 4),\n",
    "    tos(0, 0, 5),\n",
    "    tos(0, 0, 6),\n",
    "    tos(0, 0, 7),\n",
    "    tos(0, 0, 8),\n",
    "]\n",
    "ms, ds = calc_ms(B_s, B_i, B_si, c, alpha, ts)\n",
    "tm = test(B_s, B_i, B_si, c, alpha, ts, ds, tos(60, 0, 45))\n",
    "print('==== massed ====')\n",
    "pp(ms, ds, ts)\n",
    "print('test: m={}, p_recall={}'.format(tm, calc_precall(T, s, tm)))\n",
    "\n",
    "ts = [\n",
    "    tos(0, 0, 0),\n",
    "    tos(0, 12, 0),\n",
    "    tos(1, 0, 0),\n",
    "    tos(1, 12, 0),\n",
    "    tos(2, 0, 0),\n",
    "    tos(2, 12, 0),\n",
    "    tos(3, 0, 0),\n",
    "    tos(3, 12, 0),\n",
    "    tos(4, 0, 0),\n",
    "]\n",
    "\n",
    "ms, ds = calc_ms(B_s, B_i, B_si, c, alpha, ts)\n",
    "tm = test(B_s, B_i, B_si, c, alpha, ts, ds, tos(64, 0, 0))\n",
    "print('==== spaced ====')\n",
    "pp(ms, ds, ts)\n",
    "print('test: m={}, p_recall={}'.format(tm, calc_precall(T, s, tm)))"
   ]
  },
  {
   "cell_type": "code",
   "execution_count": 7,
   "metadata": {
    "ExecuteTime": {
     "end_time": "2020-02-11T22:18:55.526373Z",
     "start_time": "2020-02-11T22:18:55.466261Z"
    }
   },
   "outputs": [
    {
     "name": "stdout",
     "output_type": "stream",
     "text": [
      "==== mixed ====\n",
      "m=-0.69315, d=0.20000, precall=0.06501\n",
      "m=0.36136, d=0.41000, precall=0.80057\n",
      "m=0.50319, d=0.80282, precall=0.87384\n",
      "m=0.83417, d=0.89468, precall=0.96115\n",
      "m=0.77642, d=1.16722, precall=0.95195\n",
      "m=0.96603, d=1.11295, precall=0.97624\n",
      "m=0.85279, d=1.30355, precall=0.96374\n",
      "m=1.00500, d=1.18540, precall=0.97948\n",
      "m=0.87710, d=1.34740, precall=0.96686\n",
      "m=1.01893, d=1.20964, precall=0.98052\n",
      "test: m=-1.77338, p_recall=0.0010897723\n",
      "==== study ====\n",
      "m=-0.69315, d=0.20000, precall=0.06501\n",
      "m=-0.06691, d=0.41000, precall=0.43601\n",
      "m=0.24505, d=0.59282, precall=0.71960\n",
      "m=0.42470, d=0.73663, precall=0.83664\n",
      "m=0.53437, d=0.84223, precall=0.88648\n",
      "m=0.60386, d=0.91668, precall=0.91073\n",
      "m=0.64940, d=0.96825, precall=0.92398\n",
      "m=0.68028, d=1.00404, precall=0.93191\n",
      "m=0.70200, d=1.02926, precall=0.93703\n",
      "m=0.71785, d=1.04747, precall=0.94053\n",
      "test: m=-1.86944, p_recall=0.0007534106\n"
     ]
    }
   ],
   "source": [
    "ts = [\n",
    "    tos(0, 0, 0),\n",
    "    tos(0, 0, 1),\n",
    "    tos(0, 0, 2),\n",
    "    tos(0, 0, 3),\n",
    "    tos(0, 0, 4),\n",
    "    tos(0, 0, 5),\n",
    "    tos(0, 0, 6),\n",
    "    tos(0, 0, 7),\n",
    "    tos(0, 0, 8),\n",
    "    tos(0, 0, 9),\n",
    "]\n",
    "\n",
    "types = [\n",
    "    False, # True = test\n",
    "    True,\n",
    "    False,\n",
    "    True,\n",
    "    False,\n",
    "    True,\n",
    "    False,\n",
    "    True,\n",
    "    False,\n",
    "    True,\n",
    "]\n",
    "\n",
    "ms, ds = calc_ms(B_s, B_i, B_si, c, alpha, ts, types)\n",
    "tm = test(B_s, B_i, B_si, c, alpha, ts, ds, tos(1, 0, 45), types)\n",
    "print('==== mixed ====')\n",
    "pp(ms, ds, ts)\n",
    "print('test: m={:.5f}, p_recall={:.10f}'.format(tm, calc_precall(T, s, tm)))\n",
    "\n",
    "types = [\n",
    "    False,\n",
    "    False,\n",
    "    False,\n",
    "    False,\n",
    "    False,\n",
    "    False,\n",
    "    False,\n",
    "    False,\n",
    "    False,\n",
    "    False,\n",
    "]\n",
    "ms, ds = calc_ms(B_s, B_i, B_si, c, alpha, ts, types)\n",
    "tm = test(B_s, B_i, B_si, c, alpha, ts, ds, tos(1, 0, 0), types)\n",
    "print('==== study ====')\n",
    "pp(ms, ds, ts)\n",
    "print('test: m={:.5f}, p_recall={:.10f}'.format(tm, calc_precall(T, s, tm)))"
   ]
  },
  {
   "cell_type": "code",
   "execution_count": null,
   "metadata": {
    "collapsed": true
   },
   "outputs": [],
   "source": []
  }
 ],
 "metadata": {
  "kernelspec": {
   "display_name": "Python 3",
   "language": "python",
   "name": "python3"
  },
  "language_info": {
   "codemirror_mode": {
    "name": "ipython",
    "version": 3
   },
   "file_extension": ".py",
   "mimetype": "text/x-python",
   "name": "python",
   "nbconvert_exporter": "python",
   "pygments_lexer": "ipython3",
   "version": "3.6.1"
  }
 },
 "nbformat": 4,
 "nbformat_minor": 2
}
